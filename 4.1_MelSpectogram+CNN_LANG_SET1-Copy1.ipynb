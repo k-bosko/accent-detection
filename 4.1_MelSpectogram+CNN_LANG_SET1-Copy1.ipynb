{
 "cells": [
  {
   "cell_type": "markdown",
   "id": "c3d7b57b",
   "metadata": {},
   "source": [
    "![./img/sp_tiny.png](./img/sp_tiny.png)\n",
    "<h1><center>Accent Detection: <br>\n",
    "Signal Processing  + CNN</center></h1>\n",
    "<h3><center>Part 4.1: Signal Processing + CNN - Languages Set 1 </center></h3>\n",
    "<center>Group 2: Katerina Bosko and Victor Wilm\n",
    "<center>Northeastern University, CS6140"
   ]
  },
  {
   "cell_type": "code",
   "execution_count": 1,
   "id": "b2aaf27e",
   "metadata": {},
   "outputs": [
    {
     "name": "stderr",
     "output_type": "stream",
     "text": [
      "2022-12-14 20:39:13.855769: I tensorflow/core/platform/cpu_feature_guard.cc:193] This TensorFlow binary is optimized with oneAPI Deep Neural Network Library (oneDNN) to use the following CPU instructions in performance-critical operations:  AVX2 FMA\n",
      "To enable them in other operations, rebuild TensorFlow with the appropriate compiler flags.\n"
     ]
    }
   ],
   "source": [
    "import os\n",
    "from glob import glob\n",
    "from ipywidgets import IntProgress\n",
    "import json\n",
    "\n",
    "from sklearn.preprocessing import StandardScaler\n",
    "from sklearn.model_selection import train_test_split\n",
    "\n",
    "from keras.callbacks import EarlyStopping\n",
    "from tensorflow.keras.models import Sequential\n",
    "from tensorflow.keras.layers import Conv2D, Dense, Flatten, MaxPooling2D, BatchNormalization, Dropout\n",
    "from tensorflow.keras.optimizers import Adam\n",
    "import tensorflow as tf\n",
    "from tensorflow.keras import regularizers\n",
    "\n",
    "import librosa\n",
    "import numpy as np\n",
    "import matplotlib.pyplot as plt\n",
    "import seaborn as sns\n",
    "\n",
    "# Set the seed value for experiment reproducibility\n",
    "seed = 36\n",
    "tf.random.set_seed(seed)\n",
    "np.random.seed(seed)"
   ]
  },
  {
   "cell_type": "markdown",
   "id": "46e44b0b",
   "metadata": {},
   "source": [
    "In this notebook, we perform CNN on Mel Spectograms produced by Signal Processing. The approach is based on the paper by Michailava et al (2022) mentioned in the references. "
   ]
  },
  {
   "cell_type": "markdown",
   "id": "d38e703b",
   "metadata": {},
   "source": [
    "# 1. Signal Processing"
   ]
  },
  {
   "cell_type": "markdown",
   "id": "10f6c806",
   "metadata": {},
   "source": [
    "## Notes on parameters\n",
    "\n",
    "### Sample rate\n",
    "Sample rate = 22050 Hz was not changed. This is standard in librosa library.\n",
    "\n",
    "### STFT window size\n",
    "From https://librosa.org/doc/latest/generated/librosa.stft.html#librosa.stft:\n",
    "\n",
    "\"n_fft = length of the windowed signal after padding with zeros. The number of rows in the STFT matrix D is (1 + n_fft/2). **The default value, n_fft=2048 samples**, corresponds to a physical duration of 93 milliseconds at a sample rate of 22050 Hz, i.e. the default sample rate in librosa. This value is well adapted for **music signals**. However, in **speech processing, the recommended value is 512**, corresponding to 23 milliseconds at a sample rate of 22050 Hz. In any case, we recommend setting n_fft to a power of two for optimizing the speed of the fast Fourier transform (FFT) algorithm.\"\n",
    "\n",
    "Based on above description, n_fft=512 was chosen, which is equivalent to 512/22050=0.023 or 23 ms\n",
    "\n",
    "### Hop length\n",
    "Hop length was chosen as window_size // 2 = 512//2 = 256, which is equivalent to 256//22050=0.011 or 11 ms\n",
    "Such a hop length ensures that there is a signal overlap when extracting STFT features.\n",
    "\n",
    "### Frame size\n",
    "Frame size was chosen as 75 frames, which is rather small such that we can extract phonemes. We experimented with a larger number of frame size and it didn't result into higher than 30-40% accuracy scores.\n",
    "\n",
    "\n",
    "## Notes on processing steps\n",
    "Preprocessing steps are as follows:\n",
    "\n",
    "1. Balancing the dataset\n",
    "2. Signal Processing with the chosen method\n",
    "3. Normalization at the level of each frequency\n",
    "4. Segmentation based on the frame size\n",
    "\n",
    "We experimented with different order of processing steps. For instance, \n",
    "1. Segmentation\n",
    "2. Signal processing\n",
    "3. Normalization \n",
    "\n",
    "or:\n",
    "1. Normalization\n",
    "2. Segmentation\n",
    "3. Signal processing\n",
    "\n",
    "\n",
    "these approaches also failed (the accuracy scores were not high enough)."
   ]
  },
  {
   "cell_type": "code",
   "execution_count": 2,
   "id": "59bff7c9",
   "metadata": {},
   "outputs": [],
   "source": [
    "def get_max_num_files(dataset_path):\n",
    "    # get links to audio files\n",
    "    audio_files = glob(f\"{dataset_path}/*/*.wav\")\n",
    "    # note .DS_store needs to be removed\n",
    "    if '.DS_Store' in os.listdir(dataset_path):\n",
    "        os.remove(f'{dataset_path}/.DS_Store')\n",
    "\n",
    "    languages = os.listdir(dataset_path)\n",
    "    audio_files_by_lang = {}\n",
    "    for lang in languages:\n",
    "        audio_files_by_lang[lang] = glob(f\"{dataset_path}/{lang}/*.wav\")\n",
    "\n",
    "    num_files_per_lang = [len(audio_files_by_lang[lang]) for lang in audio_files_by_lang]\n",
    "    return np.array(num_files_per_lang).min()"
   ]
  },
  {
   "cell_type": "code",
   "execution_count": 3,
   "id": "b92f23e7",
   "metadata": {},
   "outputs": [],
   "source": [
    "def limit_num_audio_files_per_lang(dataset_path):\n",
    "    max_num_files = get_max_num_files(dataset_path)\n",
    "    if '.DS_Store' in os.listdir(dataset_path):\n",
    "        os.remove(f'{dataset_path}/.DS_Store')\n",
    "\n",
    "    languages = os.listdir(dataset_path)\n",
    "    lang_mapping = {l: i for i, l in enumerate(languages)}\n",
    "\n",
    "    audio_files_by_lang = {}\n",
    "    # limit to MAX_NUM_FILES for each lang\n",
    "    for lang in languages:\n",
    "        audio_files_by_lang[lang] = glob(f\"{dataset_path}/{lang}/*.wav\")[:max_num_files]\n",
    "        print(f\"num audio files for {lang.upper()}: {len(audio_files_by_lang[lang])}\")\n",
    "\n",
    "    audio_files = [file for lang_files in audio_files_by_lang.values() for file in lang_files]\n",
    "    return audio_files"
   ]
  },
  {
   "cell_type": "code",
   "execution_count": 4,
   "id": "cc666df8",
   "metadata": {},
   "outputs": [],
   "source": [
    "def extract_features_melspectogram(dataset_path, sample_rate=22050, n_fft=512, frame_size=75, n_mels=64):\n",
    "    hop_length = n_fft // 2\n",
    "    win_len = n_fft\n",
    "\n",
    "    # get languages mapping for y\n",
    "    languages = os.listdir(dataset_path)\n",
    "    lang_mapping = {l: i for i, l in enumerate(languages)}\n",
    "\n",
    "    # PROCESSING STEPS\n",
    "    # 1. Balancing the dataset\n",
    "    audio_files = limit_num_audio_files_per_lang(dataset_path)\n",
    "    \n",
    "    # instantiate the progress bar\n",
    "    f = IntProgress(min=0, max=len(audio_files)) \n",
    "    display(f) # display the bar\n",
    "\n",
    "\n",
    "    X = []\n",
    "    y = []\n",
    "    for file in audio_files:\n",
    "        f.value += 1\n",
    "        # get file's language\n",
    "        lang_pos = len(dataset_path.split(\"/\"))\n",
    "        lang = file.split(\"/\")[lang_pos]\n",
    "        \n",
    "        # 2. Signal processing\n",
    "        signal, _ = librosa.load(file, sr=sample_rate)\n",
    "        # mel_sp shape (n_mels, len(signal)/hop_length), e.g. (64, 1852)\n",
    "        mel_sp = librosa.feature.melspectrogram(y=signal, sr=sample_rate, n_mels=n_mels, hop_length=hop_length,\n",
    "                                           win_length=win_len, power=1.0)        \n",
    "        # 3. Normalization along N_MEL axis\n",
    "        mel_sp_norm_vector = []\n",
    "        for i in range(mel_sp.shape[0]):\n",
    "            mel_sp_norm = StandardScaler().fit_transform(mel_sp[i, :].reshape(-1, 1)).reshape(-1)\n",
    "            mel_sp_norm_vector.append(mel_sp_norm)\n",
    "\n",
    "        features = np.vstack(mel_sp_norm_vector)\n",
    "        \n",
    "        # 4. Segmentation based on frame size\n",
    "        segments = []\n",
    "        labels = []\n",
    "        new_signal_len = features.shape[1]\n",
    "        for frame_start in range(0, int(new_signal_len / frame_size)):\n",
    "            # features_cut.shape = (n_mels, frame_size), e.g. (64, 75)\n",
    "            features_cut = features[:, frame_start * frame_size:(frame_start + 1) * frame_size]\n",
    "            # num segments = stft_signal_len // frame_size, e.g. 1852 // 75 = 24\n",
    "            segments.append(features_cut)\n",
    "            labels.append(lang_mapping[lang])\n",
    "        # X_per_file.shape = (n_mels * num_segments, frame_size), e.g. (64 * 24, 75)=(1536, 75) \n",
    "        X_per_file = np.vstack(segments)\n",
    "        y_per_file = np.vstack(labels)\n",
    "        # X.shape = (sum(n_mels * num_segments per file), frame_size), e.g. ((1536+1856...), 75)\n",
    "        X.append(X_per_file)\n",
    "        # y is same as total number of segments\n",
    "        y.append(y_per_file)\n",
    "    \n",
    "    # transform X list into np.array (doesn't change shape)\n",
    "    X = np.vstack(X)\n",
    "    y = np.vstack(y)\n",
    "    \n",
    "    # reshape into (total_num_segments, n_mels, frame_size)\n",
    "    total_num_segments = y.shape[0]\n",
    "    X = X.reshape(total_num_segments, -1, frame_size)\n",
    "    print(X.shape, y.shape)\n",
    "    return X, y "
   ]
  },
  {
   "cell_type": "markdown",
   "id": "a49f2676",
   "metadata": {},
   "source": [
    "# Languages set 1: English, Russian, German, Mandarin"
   ]
  },
  {
   "cell_type": "code",
   "execution_count": 5,
   "id": "32ff808f",
   "metadata": {},
   "outputs": [
    {
     "name": "stdout",
     "output_type": "stream",
     "text": [
      "num audio files for GERMAN: 45\n",
      "num audio files for MANDARIN: 45\n",
      "num audio files for RUSSIAN: 45\n",
      "num audio files for ENGLISH: 45\n"
     ]
    },
    {
     "data": {
      "application/vnd.jupyter.widget-view+json": {
       "model_id": "58501b3b3dd446e6b103d2d025f1be65",
       "version_major": 2,
       "version_minor": 0
      },
      "text/plain": [
       "IntProgress(value=0, max=180)"
      ]
     },
     "metadata": {},
     "output_type": "display_data"
    },
    {
     "name": "stdout",
     "output_type": "stream",
     "text": [
      "(5481, 64, 75) (5481, 1)\n"
     ]
    }
   ],
   "source": [
    "dataset_path = \"./data/lang_set_1\"\n",
    "X, y = extract_features_melspectogram(dataset_path)"
   ]
  },
  {
   "cell_type": "code",
   "execution_count": 6,
   "id": "9bee9e5d",
   "metadata": {},
   "outputs": [
    {
     "data": {
      "text/plain": [
       "((5481, 64, 75), (5481, 1))"
      ]
     },
     "execution_count": 6,
     "metadata": {},
     "output_type": "execute_result"
    }
   ],
   "source": [
    "X.shape, y.shape"
   ]
  },
  {
   "cell_type": "code",
   "execution_count": 7,
   "id": "69a61450",
   "metadata": {},
   "outputs": [],
   "source": [
    "# data = {\"x\": X.tolist(), \"y\": y.tolist(), \"x_shape\": X.shape, \"y_shape\": y.shape}\n",
    "# JSON_PATH = \"./data/stft_normalized_segmentedafter_oldlang.json\"\n",
    "\n",
    "# with open(JSON_PATH, \"w\") as fp:\n",
    "#     json.dump(data, fp, indent=4)"
   ]
  },
  {
   "cell_type": "markdown",
   "id": "e8af74b0",
   "metadata": {},
   "source": [
    "## Splitting into Train, Validation, Test"
   ]
  },
  {
   "cell_type": "code",
   "execution_count": 8,
   "id": "7b2f5805",
   "metadata": {},
   "outputs": [],
   "source": [
    "def prepare_datasets(X, y, test_size, validation_size):\n",
    "    \"\"\"\n",
    "    Loads data and splits it into train, validation and test sets\n",
    "    \"\"\"\n",
    "\n",
    "    # create train, validation and test split\n",
    "    X_train, X_test, y_train, y_test = train_test_split(X, y, test_size=test_size, random_state=1234)\n",
    "    X_train, X_validation, y_train, y_validation = train_test_split(X_train, y_train, test_size=validation_size, random_state=1234)\n",
    "\n",
    "    # add an axis to input sets (aka channel for image)\n",
    "    X_train = X_train[..., np.newaxis]\n",
    "    X_validation = X_validation[..., np.newaxis]\n",
    "    X_test = X_test[..., np.newaxis]\n",
    "\n",
    "    return X_train, X_validation, X_test, y_train, y_validation, y_test"
   ]
  },
  {
   "cell_type": "code",
   "execution_count": 9,
   "id": "4b0c3880",
   "metadata": {},
   "outputs": [],
   "source": [
    "X_train, X_val, X_test, y_train, y_val, y_test = prepare_datasets(X, y, 0.25, 0.2)"
   ]
  },
  {
   "cell_type": "code",
   "execution_count": 10,
   "id": "10043bd5",
   "metadata": {},
   "outputs": [
    {
     "data": {
      "text/plain": [
       "((3288, 64, 75, 1), (822, 64, 75, 1), (1371, 64, 75, 1))"
      ]
     },
     "execution_count": 10,
     "metadata": {},
     "output_type": "execute_result"
    }
   ],
   "source": [
    "# shape (`batch_size`, `height`, `width`, `channels`)\n",
    "X_train.shape, X_val.shape, X_test.shape"
   ]
  },
  {
   "cell_type": "markdown",
   "id": "09c23b9b",
   "metadata": {},
   "source": [
    "# 2. CNN"
   ]
  },
  {
   "cell_type": "code",
   "execution_count": 11,
   "id": "204644ab",
   "metadata": {},
   "outputs": [],
   "source": [
    "def plot_history(history):\n",
    "    \"\"\"\n",
    "    Plots accuracy/loss for training/validation set as a function of the epochs\n",
    "    \"\"\"\n",
    "\n",
    "    fig, ax = plt.subplots(figsize=(12,6), ncols=2)\n",
    "\n",
    "    # accuracy sublpot\n",
    "    ax[0].plot(history.history[\"accuracy\"], label=\"train accuracy\")\n",
    "    ax[0].plot(history.history[\"val_accuracy\"], label=\"val accuracy\")\n",
    "    ax[0].set_ylabel(\"Accuracy\")\n",
    "    ax[1].set_xlabel(\"Epoch\")\n",
    "    ax[0].set_ylim([0,1])\n",
    "    ax[0].set_title(\"Accuracy\")\n",
    "\n",
    "    # loss sublpot\n",
    "    ax[1].plot(history.history[\"loss\"], label=\"train error\")\n",
    "    ax[1].plot(history.history[\"val_loss\"], label=\"val error\")\n",
    "    ax[1].set_ylabel(\"Error\")\n",
    "    ax[1].set_xlabel(\"Epoch\")\n",
    "    ax[1].set_title(\"Loss\")\n",
    "    plt.legend()\n",
    "\n",
    "    plt.show()"
   ]
  },
  {
   "cell_type": "code",
   "execution_count": 12,
   "id": "cd713316",
   "metadata": {},
   "outputs": [],
   "source": [
    "def plot_confusion_matrix(model, X_test, languages):\n",
    "    \"\"\"\n",
    "    Plots confusion matrix for model prediction on test \n",
    "    \"\"\"\n",
    "\n",
    "    y_pred = model.predict(X_test)\n",
    "\n",
    "    y_pred = np.argmax(y_pred, axis=1)\n",
    "\n",
    "    y_true = y_test\n",
    "\n",
    "    confusion_mtx = tf.math.confusion_matrix(y_true, y_pred)\n",
    "\n",
    "    plt.figure(figsize=(10, 8))\n",
    "    sns.heatmap(confusion_mtx,\n",
    "                xticklabels=languages,\n",
    "                yticklabels=languages,\n",
    "                annot=True, fmt='g')\n",
    "    plt.xlabel('Prediction')\n",
    "    plt.ylabel('Label')\n",
    "    plt.show()"
   ]
  },
  {
   "cell_type": "code",
   "execution_count": 13,
   "id": "6ff7e5ab",
   "metadata": {},
   "outputs": [
    {
     "data": {
      "text/plain": [
       "(64, 75, 1)"
      ]
     },
     "execution_count": 13,
     "metadata": {},
     "output_type": "execute_result"
    }
   ],
   "source": [
    "input_shape = X_train.shape[1:]\n",
    "input_shape"
   ]
  },
  {
   "cell_type": "code",
   "execution_count": 24,
   "id": "128aaa85",
   "metadata": {},
   "outputs": [],
   "source": [
    "NUM_LABELS = 4\n",
    "\n",
    "tf.keras.backend.clear_session()\n",
    "model = Sequential()\n",
    "\n",
    "# 1st conv layer\n",
    "model.add(Conv2D(32, (3, 3), activation='relu', input_shape=input_shape, kernel_regularizer=regularizers.L1L2(l1=1e-6, l2=1e-6)))\n",
    "model.add(BatchNormalization())\n",
    "model.add(MaxPooling2D((3, 3), strides=(2, 2), padding='same'))\n",
    "\n",
    "# 2nd conv layer\n",
    "model.add(Conv2D(64, (3, 3), activation='relu'))\n",
    "model.add(BatchNormalization())\n",
    "model.add(MaxPooling2D((3, 3), strides=(2, 2), padding='same'))\n",
    "model.add(Dropout(0.1))\n",
    "\n",
    "# flatten output and feed it into dense layer\n",
    "model.add(Flatten())\n",
    "model.add(Dense(128, activation='relu'))\n",
    "model.add(Dropout(0.1))\n",
    "\n",
    "# output layer\n",
    "model.add(Dense(NUM_LABELS, activation='softmax'))"
   ]
  },
  {
   "cell_type": "code",
   "execution_count": 29,
   "id": "16d8a755",
   "metadata": {
    "scrolled": true
   },
   "outputs": [
    {
     "name": "stdout",
     "output_type": "stream",
     "text": [
      "Model: \"sequential\"\n",
      "_________________________________________________________________\n",
      " Layer (type)                Output Shape              Param #   \n",
      "=================================================================\n",
      " conv2d (Conv2D)             (None, 62, 73, 32)        320       \n",
      "                                                                 \n",
      " batch_normalization (BatchN  (None, 62, 73, 32)       128       \n",
      " ormalization)                                                   \n",
      "                                                                 \n",
      " max_pooling2d (MaxPooling2D  (None, 31, 37, 32)       0         \n",
      " )                                                               \n",
      "                                                                 \n",
      " conv2d_1 (Conv2D)           (None, 29, 35, 64)        18496     \n",
      "                                                                 \n",
      " batch_normalization_1 (Batc  (None, 29, 35, 64)       256       \n",
      " hNormalization)                                                 \n",
      "                                                                 \n",
      " max_pooling2d_1 (MaxPooling  (None, 15, 18, 64)       0         \n",
      " 2D)                                                             \n",
      "                                                                 \n",
      " dropout (Dropout)           (None, 15, 18, 64)        0         \n",
      "                                                                 \n",
      " flatten (Flatten)           (None, 17280)             0         \n",
      "                                                                 \n",
      " dense (Dense)               (None, 128)               2211968   \n",
      "                                                                 \n",
      " dropout_1 (Dropout)         (None, 128)               0         \n",
      "                                                                 \n",
      " dense_1 (Dense)             (None, 4)                 516       \n",
      "                                                                 \n",
      "=================================================================\n",
      "Total params: 2,231,684\n",
      "Trainable params: 2,231,492\n",
      "Non-trainable params: 192\n",
      "_________________________________________________________________\n"
     ]
    }
   ],
   "source": [
    "# https://www.tensorflow.org/api_docs/python/tf/keras/optimizers/Adam\n",
    "# default values: lr=0.001 beta_1=0.9 beta_2=0.999 as in paper\n",
    "optimiser = Adam()\n",
    "model.compile(optimizer=optimiser,\n",
    "                  loss='sparse_categorical_crossentropy',\n",
    "                  metrics=['accuracy'])\n",
    "\n",
    "model.summary()"
   ]
  },
  {
   "cell_type": "code",
   "execution_count": 30,
   "id": "f7671159",
   "metadata": {},
   "outputs": [
    {
     "name": "stdout",
     "output_type": "stream",
     "text": [
      "Epoch 1/65\n",
      "52/52 [==============================] - 14s 258ms/step - loss: 1.3908 - accuracy: 0.3044 - val_loss: 24.0211 - val_accuracy: 0.2019\n",
      "Epoch 2/65\n",
      "52/52 [==============================] - 13s 247ms/step - loss: 1.3414 - accuracy: 0.3254 - val_loss: 13.8359 - val_accuracy: 0.2141\n",
      "Epoch 3/65\n",
      "52/52 [==============================] - 13s 254ms/step - loss: 1.2927 - accuracy: 0.3574 - val_loss: 7.8051 - val_accuracy: 0.2287\n",
      "Epoch 4/65\n",
      "52/52 [==============================] - 13s 256ms/step - loss: 1.2575 - accuracy: 0.3790 - val_loss: 4.0250 - val_accuracy: 0.2786\n",
      "Epoch 5/65\n",
      "52/52 [==============================] - 12s 239ms/step - loss: 1.2062 - accuracy: 0.3884 - val_loss: 2.9685 - val_accuracy: 0.3090\n",
      "Epoch 6/65\n",
      "52/52 [==============================] - 13s 248ms/step - loss: 1.1547 - accuracy: 0.4288 - val_loss: 1.6076 - val_accuracy: 0.3321\n",
      "Epoch 7/65\n",
      "52/52 [==============================] - 13s 245ms/step - loss: 1.1034 - accuracy: 0.4921 - val_loss: 1.4257 - val_accuracy: 0.3710\n",
      "Epoch 8/65\n",
      "52/52 [==============================] - 12s 238ms/step - loss: 1.0457 - accuracy: 0.5307 - val_loss: 1.3149 - val_accuracy: 0.4039\n",
      "Epoch 9/65\n",
      "52/52 [==============================] - 13s 251ms/step - loss: 0.9824 - accuracy: 0.5651 - val_loss: 1.2702 - val_accuracy: 0.4416\n",
      "Epoch 10/65\n",
      "52/52 [==============================] - 12s 235ms/step - loss: 0.9184 - accuracy: 0.6007 - val_loss: 1.2050 - val_accuracy: 0.4745\n",
      "Epoch 11/65\n",
      "52/52 [==============================] - 12s 239ms/step - loss: 0.8688 - accuracy: 0.6198 - val_loss: 1.2186 - val_accuracy: 0.4988\n",
      "Epoch 12/65\n",
      "52/52 [==============================] - 14s 262ms/step - loss: 0.8283 - accuracy: 0.6481 - val_loss: 1.2835 - val_accuracy: 0.4757\n",
      "Epoch 13/65\n",
      "52/52 [==============================] - 13s 250ms/step - loss: 0.7812 - accuracy: 0.6658 - val_loss: 1.3395 - val_accuracy: 0.5109\n",
      "Epoch 14/65\n",
      "52/52 [==============================] - 12s 234ms/step - loss: 0.7446 - accuracy: 0.6867 - val_loss: 1.3427 - val_accuracy: 0.5158\n",
      "Epoch 15/65\n",
      "52/52 [==============================] - 12s 234ms/step - loss: 0.7077 - accuracy: 0.7120 - val_loss: 1.3967 - val_accuracy: 0.4964\n",
      "Epoch 16/65\n",
      "52/52 [==============================] - 12s 233ms/step - loss: 0.6455 - accuracy: 0.7336 - val_loss: 1.2691 - val_accuracy: 0.5292\n",
      "Epoch 17/65\n",
      "52/52 [==============================] - 12s 233ms/step - loss: 0.6402 - accuracy: 0.7491 - val_loss: 1.3881 - val_accuracy: 0.4988\n",
      "Epoch 18/65\n",
      "52/52 [==============================] - 12s 234ms/step - loss: 0.5899 - accuracy: 0.7622 - val_loss: 1.3691 - val_accuracy: 0.5207\n",
      "Epoch 19/65\n",
      "52/52 [==============================] - 12s 238ms/step - loss: 0.5429 - accuracy: 0.7835 - val_loss: 1.3040 - val_accuracy: 0.5693\n",
      "Epoch 20/65\n",
      "52/52 [==============================] - 13s 250ms/step - loss: 0.5186 - accuracy: 0.7874 - val_loss: 1.3844 - val_accuracy: 0.5547\n",
      "Epoch 21/65\n",
      "52/52 [==============================] - 12s 225ms/step - loss: 0.4824 - accuracy: 0.8050 - val_loss: 1.3472 - val_accuracy: 0.5706\n",
      "Epoch 22/65\n",
      "52/52 [==============================] - 11s 219ms/step - loss: 0.4477 - accuracy: 0.8196 - val_loss: 1.4711 - val_accuracy: 0.5742\n",
      "Epoch 23/65\n",
      "52/52 [==============================] - 12s 222ms/step - loss: 0.4239 - accuracy: 0.8324 - val_loss: 1.3240 - val_accuracy: 0.5633\n",
      "Epoch 24/65\n",
      "52/52 [==============================] - 12s 233ms/step - loss: 0.4023 - accuracy: 0.8382 - val_loss: 1.4311 - val_accuracy: 0.5693\n",
      "Epoch 25/65\n",
      "52/52 [==============================] - 12s 238ms/step - loss: 0.3922 - accuracy: 0.8491 - val_loss: 1.4615 - val_accuracy: 0.5633\n",
      "Epoch 26/65\n",
      "52/52 [==============================] - 12s 239ms/step - loss: 0.3740 - accuracy: 0.8464 - val_loss: 1.6684 - val_accuracy: 0.5730\n",
      "Epoch 27/65\n",
      "52/52 [==============================] - 12s 232ms/step - loss: 0.3525 - accuracy: 0.8583 - val_loss: 1.5875 - val_accuracy: 0.5925\n",
      "Epoch 28/65\n",
      "52/52 [==============================] - 12s 236ms/step - loss: 0.3466 - accuracy: 0.8634 - val_loss: 1.3637 - val_accuracy: 0.5791\n",
      "Epoch 29/65\n",
      "52/52 [==============================] - 12s 236ms/step - loss: 0.3242 - accuracy: 0.8720 - val_loss: 1.6036 - val_accuracy: 0.5766\n",
      "Epoch 30/65\n",
      "52/52 [==============================] - 12s 233ms/step - loss: 0.2951 - accuracy: 0.8786 - val_loss: 1.3832 - val_accuracy: 0.6010\n",
      "Epoch 31/65\n",
      "52/52 [==============================] - 12s 240ms/step - loss: 0.3227 - accuracy: 0.8717 - val_loss: 1.9132 - val_accuracy: 0.5560\n",
      "Epoch 32/65\n",
      "52/52 [==============================] - 12s 236ms/step - loss: 0.3263 - accuracy: 0.8726 - val_loss: 1.6105 - val_accuracy: 0.5523\n",
      "Epoch 33/65\n",
      "52/52 [==============================] - 12s 232ms/step - loss: 0.2948 - accuracy: 0.8847 - val_loss: 1.5414 - val_accuracy: 0.5864\n",
      "Epoch 34/65\n",
      "52/52 [==============================] - 12s 235ms/step - loss: 0.2921 - accuracy: 0.8805 - val_loss: 1.5064 - val_accuracy: 0.5900\n",
      "Epoch 35/65\n",
      "52/52 [==============================] - 12s 234ms/step - loss: 0.2759 - accuracy: 0.8914 - val_loss: 1.4094 - val_accuracy: 0.6058\n",
      "Epoch 36/65\n",
      "52/52 [==============================] - 12s 234ms/step - loss: 0.2692 - accuracy: 0.8939 - val_loss: 1.3789 - val_accuracy: 0.6168\n",
      "Epoch 37/65\n",
      "52/52 [==============================] - 12s 231ms/step - loss: 0.2709 - accuracy: 0.8969 - val_loss: 1.4175 - val_accuracy: 0.6144\n",
      "Epoch 38/65\n",
      "52/52 [==============================] - 12s 234ms/step - loss: 0.2667 - accuracy: 0.8981 - val_loss: 1.5223 - val_accuracy: 0.5998\n",
      "Epoch 39/65\n",
      "52/52 [==============================] - 12s 233ms/step - loss: 0.2511 - accuracy: 0.9009 - val_loss: 1.4473 - val_accuracy: 0.6058\n",
      "Epoch 40/65\n",
      "52/52 [==============================] - 12s 235ms/step - loss: 0.2554 - accuracy: 0.8975 - val_loss: 1.6529 - val_accuracy: 0.6217\n",
      "Epoch 41/65\n",
      "52/52 [==============================] - 12s 235ms/step - loss: 0.2609 - accuracy: 0.9018 - val_loss: 1.4788 - val_accuracy: 0.6010\n",
      "Epoch 42/65\n",
      "52/52 [==============================] - 12s 237ms/step - loss: 0.2534 - accuracy: 0.8969 - val_loss: 2.0274 - val_accuracy: 0.5706\n",
      "Epoch 43/65\n",
      "52/52 [==============================] - 13s 241ms/step - loss: 0.2339 - accuracy: 0.9091 - val_loss: 1.3783 - val_accuracy: 0.5912\n",
      "Epoch 44/65\n",
      "52/52 [==============================] - 13s 250ms/step - loss: 0.2371 - accuracy: 0.9088 - val_loss: 1.4618 - val_accuracy: 0.5937\n",
      "Epoch 45/65\n",
      "52/52 [==============================] - 12s 240ms/step - loss: 0.2436 - accuracy: 0.9039 - val_loss: 2.0066 - val_accuracy: 0.5693\n",
      "Epoch 46/65\n",
      "52/52 [==============================] - 12s 231ms/step - loss: 0.2386 - accuracy: 0.9097 - val_loss: 1.6943 - val_accuracy: 0.6119\n",
      "Epoch 47/65\n",
      "52/52 [==============================] - 12s 222ms/step - loss: 0.2548 - accuracy: 0.9024 - val_loss: 1.7358 - val_accuracy: 0.5742\n",
      "Epoch 48/65\n",
      "52/52 [==============================] - 11s 219ms/step - loss: 0.2534 - accuracy: 0.9009 - val_loss: 1.8835 - val_accuracy: 0.5827\n",
      "Epoch 49/65\n",
      "52/52 [==============================] - 12s 233ms/step - loss: 0.2377 - accuracy: 0.9048 - val_loss: 1.5457 - val_accuracy: 0.6144\n",
      "Epoch 50/65\n",
      "52/52 [==============================] - 12s 231ms/step - loss: 0.2320 - accuracy: 0.9072 - val_loss: 1.5548 - val_accuracy: 0.6204\n",
      "Epoch 51/65\n",
      "52/52 [==============================] - 12s 232ms/step - loss: 0.2174 - accuracy: 0.9170 - val_loss: 1.7468 - val_accuracy: 0.6204\n",
      "Epoch 52/65\n",
      "52/52 [==============================] - 12s 239ms/step - loss: 0.2273 - accuracy: 0.9130 - val_loss: 1.5988 - val_accuracy: 0.6022\n",
      "Epoch 53/65\n",
      "52/52 [==============================] - 13s 251ms/step - loss: 0.2263 - accuracy: 0.9124 - val_loss: 1.8861 - val_accuracy: 0.6290\n",
      "Epoch 54/65\n",
      "52/52 [==============================] - 13s 242ms/step - loss: 0.2135 - accuracy: 0.9173 - val_loss: 1.6792 - val_accuracy: 0.6229\n",
      "Epoch 55/65\n",
      "52/52 [==============================] - 12s 235ms/step - loss: 0.2159 - accuracy: 0.9182 - val_loss: 1.7177 - val_accuracy: 0.6229\n",
      "Epoch 56/65\n",
      "52/52 [==============================] - 13s 241ms/step - loss: 0.2267 - accuracy: 0.9103 - val_loss: 1.5638 - val_accuracy: 0.6034\n",
      "Epoch 57/65\n",
      "52/52 [==============================] - 13s 244ms/step - loss: 0.2073 - accuracy: 0.9218 - val_loss: 1.6968 - val_accuracy: 0.6204\n"
     ]
    },
    {
     "name": "stdout",
     "output_type": "stream",
     "text": [
      "Epoch 58/65\n",
      "52/52 [==============================] - 13s 241ms/step - loss: 0.2093 - accuracy: 0.9218 - val_loss: 1.6834 - val_accuracy: 0.6277\n",
      "Epoch 59/65\n",
      "52/52 [==============================] - 13s 242ms/step - loss: 0.1949 - accuracy: 0.9273 - val_loss: 1.8376 - val_accuracy: 0.6058\n",
      "Epoch 60/65\n",
      "52/52 [==============================] - 12s 237ms/step - loss: 0.2154 - accuracy: 0.9212 - val_loss: 2.3145 - val_accuracy: 0.5815\n",
      "Epoch 61/65\n",
      "52/52 [==============================] - 12s 236ms/step - loss: 0.2019 - accuracy: 0.9249 - val_loss: 1.6983 - val_accuracy: 0.6411\n",
      "Epoch 62/65\n",
      "52/52 [==============================] - 12s 236ms/step - loss: 0.1932 - accuracy: 0.9246 - val_loss: 1.9490 - val_accuracy: 0.6083\n",
      "Epoch 63/65\n",
      "52/52 [==============================] - 13s 245ms/step - loss: 0.1832 - accuracy: 0.9307 - val_loss: 1.7743 - val_accuracy: 0.6375\n",
      "Epoch 64/65\n",
      "52/52 [==============================] - 12s 235ms/step - loss: 0.1851 - accuracy: 0.9349 - val_loss: 2.0988 - val_accuracy: 0.5791\n",
      "Epoch 65/65\n",
      "52/52 [==============================] - 12s 236ms/step - loss: 0.1748 - accuracy: 0.9404 - val_loss: 2.0228 - val_accuracy: 0.6058\n"
     ]
    }
   ],
   "source": [
    "NUM_EPOCHS = 65\n",
    "history = model.fit(X_train, y_train, validation_data=(X_val, y_val), batch_size=64, epochs=NUM_EPOCHS)\n"
   ]
  },
  {
   "cell_type": "code",
   "execution_count": 33,
   "id": "f91524bb",
   "metadata": {},
   "outputs": [
    {
     "name": "stdout",
     "output_type": "stream",
     "text": [
      "Epoch 1/55\n",
      "52/52 [==============================] - 12s 239ms/step - loss: 0.1745 - accuracy: 0.9361 - val_loss: 2.4665 - val_accuracy: 0.6010\n",
      "Epoch 2/55\n",
      "52/52 [==============================] - 12s 234ms/step - loss: 0.1738 - accuracy: 0.9377 - val_loss: 1.9741 - val_accuracy: 0.6277\n",
      "Epoch 3/55\n",
      "52/52 [==============================] - 12s 232ms/step - loss: 0.1801 - accuracy: 0.9340 - val_loss: 1.9436 - val_accuracy: 0.6107\n",
      "Epoch 4/55\n",
      "52/52 [==============================] - 12s 238ms/step - loss: 0.1783 - accuracy: 0.9328 - val_loss: 2.1944 - val_accuracy: 0.6180\n",
      "Epoch 5/55\n",
      "52/52 [==============================] - 13s 257ms/step - loss: 0.1691 - accuracy: 0.9383 - val_loss: 1.6764 - val_accuracy: 0.6496\n",
      "Epoch 6/55\n",
      "52/52 [==============================] - 13s 249ms/step - loss: 0.1899 - accuracy: 0.9331 - val_loss: 2.2763 - val_accuracy: 0.5912\n",
      "Epoch 7/55\n",
      "52/52 [==============================] - 13s 248ms/step - loss: 0.1693 - accuracy: 0.9416 - val_loss: 1.8826 - val_accuracy: 0.6484\n",
      "Epoch 8/55\n",
      "52/52 [==============================] - 13s 255ms/step - loss: 0.1383 - accuracy: 0.9510 - val_loss: 1.7162 - val_accuracy: 0.6472\n",
      "Epoch 9/55\n",
      "52/52 [==============================] - 13s 242ms/step - loss: 0.1345 - accuracy: 0.9529 - val_loss: 1.9073 - val_accuracy: 0.6496\n",
      "Epoch 10/55\n",
      "52/52 [==============================] - 13s 244ms/step - loss: 0.1409 - accuracy: 0.9510 - val_loss: 2.1411 - val_accuracy: 0.6460\n",
      "Epoch 11/55\n",
      "52/52 [==============================] - 12s 239ms/step - loss: 0.1785 - accuracy: 0.9352 - val_loss: 1.9869 - val_accuracy: 0.6180\n",
      "Epoch 12/55\n",
      "52/52 [==============================] - 12s 240ms/step - loss: 0.1891 - accuracy: 0.9519 - val_loss: 7.8309 - val_accuracy: 0.4489\n",
      "Epoch 13/55\n",
      "52/52 [==============================] - 12s 240ms/step - loss: 0.2900 - accuracy: 0.9109 - val_loss: 1.7811 - val_accuracy: 0.6010\n",
      "Epoch 14/55\n",
      "52/52 [==============================] - 12s 240ms/step - loss: 0.1874 - accuracy: 0.9367 - val_loss: 1.8053 - val_accuracy: 0.6448\n",
      "Epoch 15/55\n",
      "52/52 [==============================] - 13s 242ms/step - loss: 0.1597 - accuracy: 0.9386 - val_loss: 1.6835 - val_accuracy: 0.6618\n",
      "Epoch 16/55\n",
      "52/52 [==============================] - 13s 241ms/step - loss: 0.1438 - accuracy: 0.9492 - val_loss: 2.1612 - val_accuracy: 0.6168\n",
      "Epoch 17/55\n",
      "52/52 [==============================] - 12s 236ms/step - loss: 0.1515 - accuracy: 0.9513 - val_loss: 2.1383 - val_accuracy: 0.6156\n",
      "Epoch 18/55\n",
      "52/52 [==============================] - 12s 239ms/step - loss: 0.1409 - accuracy: 0.9513 - val_loss: 1.8705 - val_accuracy: 0.6399\n",
      "Epoch 19/55\n",
      "52/52 [==============================] - 13s 242ms/step - loss: 0.1316 - accuracy: 0.9559 - val_loss: 1.8334 - val_accuracy: 0.6618\n",
      "Epoch 20/55\n",
      "52/52 [==============================] - 13s 244ms/step - loss: 0.1254 - accuracy: 0.9614 - val_loss: 2.1399 - val_accuracy: 0.5961\n",
      "Epoch 21/55\n",
      "52/52 [==============================] - 12s 239ms/step - loss: 0.1301 - accuracy: 0.9535 - val_loss: 1.9257 - val_accuracy: 0.6436\n",
      "Epoch 22/55\n",
      "52/52 [==============================] - 13s 241ms/step - loss: 0.1322 - accuracy: 0.9580 - val_loss: 1.8213 - val_accuracy: 0.6630\n",
      "Epoch 23/55\n",
      "52/52 [==============================] - 13s 244ms/step - loss: 0.1407 - accuracy: 0.9498 - val_loss: 1.9479 - val_accuracy: 0.6545\n",
      "Epoch 24/55\n",
      "52/52 [==============================] - 12s 240ms/step - loss: 0.1292 - accuracy: 0.9559 - val_loss: 1.9843 - val_accuracy: 0.6594\n",
      "Epoch 25/55\n",
      "52/52 [==============================] - 13s 241ms/step - loss: 0.1135 - accuracy: 0.9602 - val_loss: 2.1265 - val_accuracy: 0.6472\n",
      "Epoch 26/55\n",
      "52/52 [==============================] - 13s 244ms/step - loss: 0.1368 - accuracy: 0.9562 - val_loss: 2.3420 - val_accuracy: 0.6010\n",
      "Epoch 27/55\n",
      "52/52 [==============================] - 13s 246ms/step - loss: 0.1260 - accuracy: 0.9571 - val_loss: 2.0474 - val_accuracy: 0.6277\n",
      "Epoch 28/55\n",
      "52/52 [==============================] - 13s 242ms/step - loss: 0.1357 - accuracy: 0.9519 - val_loss: 2.0344 - val_accuracy: 0.6314\n",
      "Epoch 29/55\n",
      "52/52 [==============================] - 13s 245ms/step - loss: 0.1375 - accuracy: 0.9519 - val_loss: 1.8870 - val_accuracy: 0.6448\n",
      "Epoch 30/55\n",
      "52/52 [==============================] - 13s 249ms/step - loss: 0.1224 - accuracy: 0.9617 - val_loss: 1.7242 - val_accuracy: 0.6606\n",
      "Epoch 31/55\n",
      "52/52 [==============================] - 13s 248ms/step - loss: 0.1052 - accuracy: 0.9626 - val_loss: 1.7900 - val_accuracy: 0.6533\n",
      "Epoch 32/55\n",
      "52/52 [==============================] - 14s 261ms/step - loss: 0.1127 - accuracy: 0.9626 - val_loss: 1.8996 - val_accuracy: 0.6387\n",
      "Epoch 33/55\n",
      "52/52 [==============================] - 13s 259ms/step - loss: 0.1140 - accuracy: 0.9595 - val_loss: 1.8189 - val_accuracy: 0.6618\n",
      "Epoch 34/55\n",
      "52/52 [==============================] - 13s 254ms/step - loss: 0.1062 - accuracy: 0.9614 - val_loss: 2.0400 - val_accuracy: 0.6521\n",
      "Epoch 35/55\n",
      "52/52 [==============================] - 13s 248ms/step - loss: 0.1228 - accuracy: 0.9586 - val_loss: 2.1493 - val_accuracy: 0.6484\n",
      "Epoch 36/55\n",
      "52/52 [==============================] - 13s 252ms/step - loss: 0.1173 - accuracy: 0.9589 - val_loss: 1.9071 - val_accuracy: 0.6277\n",
      "Epoch 37/55\n",
      "52/52 [==============================] - 13s 243ms/step - loss: 0.0911 - accuracy: 0.9702 - val_loss: 2.4559 - val_accuracy: 0.6496\n",
      "Epoch 38/55\n",
      "52/52 [==============================] - 13s 245ms/step - loss: 0.1045 - accuracy: 0.9656 - val_loss: 1.8029 - val_accuracy: 0.6764\n",
      "Epoch 39/55\n",
      "52/52 [==============================] - 14s 265ms/step - loss: 0.1098 - accuracy: 0.9626 - val_loss: 1.9599 - val_accuracy: 0.6496\n",
      "Epoch 40/55\n",
      "52/52 [==============================] - 13s 241ms/step - loss: 0.1040 - accuracy: 0.9662 - val_loss: 2.0892 - val_accuracy: 0.6886\n",
      "Epoch 41/55\n",
      "52/52 [==============================] - 13s 245ms/step - loss: 0.1082 - accuracy: 0.9644 - val_loss: 1.9920 - val_accuracy: 0.6800\n",
      "Epoch 42/55\n",
      "52/52 [==============================] - 13s 249ms/step - loss: 0.1040 - accuracy: 0.9653 - val_loss: 2.7253 - val_accuracy: 0.5985\n",
      "Epoch 43/55\n",
      "52/52 [==============================] - 13s 247ms/step - loss: 0.0956 - accuracy: 0.9693 - val_loss: 1.8489 - val_accuracy: 0.6788\n",
      "Epoch 44/55\n",
      "52/52 [==============================] - 13s 241ms/step - loss: 0.1161 - accuracy: 0.9678 - val_loss: 2.5444 - val_accuracy: 0.6144\n",
      "Epoch 45/55\n",
      "52/52 [==============================] - 13s 254ms/step - loss: 0.0945 - accuracy: 0.9696 - val_loss: 1.8007 - val_accuracy: 0.6606\n",
      "Epoch 46/55\n",
      "52/52 [==============================] - 13s 241ms/step - loss: 0.1051 - accuracy: 0.9665 - val_loss: 1.9081 - val_accuracy: 0.6727\n",
      "Epoch 47/55\n",
      "52/52 [==============================] - 12s 239ms/step - loss: 0.1117 - accuracy: 0.9620 - val_loss: 2.4741 - val_accuracy: 0.6496\n",
      "Epoch 48/55\n",
      "52/52 [==============================] - 13s 242ms/step - loss: 0.0965 - accuracy: 0.9668 - val_loss: 2.0115 - val_accuracy: 0.6642\n",
      "Epoch 49/55\n",
      "52/52 [==============================] - 13s 241ms/step - loss: 0.1073 - accuracy: 0.9626 - val_loss: 1.5722 - val_accuracy: 0.6679\n",
      "Epoch 50/55\n",
      "52/52 [==============================] - 13s 244ms/step - loss: 0.0910 - accuracy: 0.9705 - val_loss: 1.6787 - val_accuracy: 0.6837\n",
      "Epoch 51/55\n",
      "52/52 [==============================] - 13s 247ms/step - loss: 0.0955 - accuracy: 0.9681 - val_loss: 2.6527 - val_accuracy: 0.6010\n",
      "Epoch 52/55\n",
      "52/52 [==============================] - 13s 248ms/step - loss: 0.1068 - accuracy: 0.9659 - val_loss: 2.7249 - val_accuracy: 0.6363\n",
      "Epoch 53/55\n",
      "52/52 [==============================] - 13s 250ms/step - loss: 0.0905 - accuracy: 0.9705 - val_loss: 1.7579 - val_accuracy: 0.6898\n",
      "Epoch 54/55\n",
      "52/52 [==============================] - 13s 247ms/step - loss: 0.0956 - accuracy: 0.9717 - val_loss: 2.2155 - val_accuracy: 0.6302\n",
      "Epoch 55/55\n",
      "52/52 [==============================] - 13s 250ms/step - loss: 0.0863 - accuracy: 0.9705 - val_loss: 2.1959 - val_accuracy: 0.6448\n"
     ]
    }
   ],
   "source": [
    "NUM_EPOCHS = 55\n",
    "history = model.fit(X_train, y_train, validation_data=(X_val, y_val), batch_size=64, epochs=NUM_EPOCHS)"
   ]
  },
  {
   "cell_type": "code",
   "execution_count": 34,
   "id": "3af63741",
   "metadata": {},
   "outputs": [
    {
     "data": {
      "image/png": "[encoded data removed]",
      "text/plain": [
       "<Figure size 864x432 with 2 Axes>"
      ]
     },
     "metadata": {
      "needs_background": "light"
     },
     "output_type": "display_data"
    }
   ],
   "source": [
    "plot_history(history)"
   ]
  },
  {
   "cell_type": "markdown",
   "id": "c4556ec3",
   "metadata": {},
   "source": [
    "## Evaluation"
   ]
  },
  {
   "cell_type": "code",
   "execution_count": 35,
   "id": "9f5876b7",
   "metadata": {},
   "outputs": [
    {
     "name": "stdout",
     "output_type": "stream",
     "text": [
      "43/43 - 2s - loss: 2.1556 - accuracy: 0.6506 - 2s/epoch - 43ms/step\n"
     ]
    }
   ],
   "source": [
    "test_loss, test_acc = model.evaluate(X_test, y_test, verbose=2)"
   ]
  },
  {
   "cell_type": "code",
   "execution_count": 19,
   "id": "647f3200",
   "metadata": {},
   "outputs": [],
   "source": [
    "if '.DS_Store' in os.listdir(dataset_path):\n",
    "        os.remove(f'{dataset_path}/.DS_Store')\n",
    "\n",
    "languages = os.listdir(dataset_path)"
   ]
  },
  {
   "cell_type": "code",
   "execution_count": 20,
   "id": "473e0952",
   "metadata": {
    "scrolled": true
   },
   "outputs": [
    {
     "name": "stdout",
     "output_type": "stream",
     "text": [
      "43/43 [==============================] - 2s 37ms/step\n"
     ]
    },
    {
     "data": {
      "image/png": "[encoded data removed]",
      "text/plain": [
       "<Figure size 720x576 with 2 Axes>"
      ]
     },
     "metadata": {
      "needs_background": "light"
     },
     "output_type": "display_data"
    }
   ],
   "source": [
    "plot_confusion_matrix(model, X_test, languages)"
   ]
  },
  {
   "cell_type": "markdown",
   "id": "c0158a33",
   "metadata": {},
   "source": [
    "# References:\n",
    "\n",
    "Mikhailava, V.; Leshnichaia, M.; Bogach, N.; Lezhenin, I.; Blake, J.; Pyshkin, E. Language Accent Detection with CNN Using Sparse Data from a Crowd-Sourced Speech Archive. Mathematics 2022, 10, 2913. https://doi.org/10.3390/ math10162913 "
   ]
  },
  {
   "cell_type": "code",
   "execution_count": null,
   "id": "d7038c98",
   "metadata": {},
   "outputs": [],
   "source": []
  }
 ],
 "metadata": {
  "kernelspec": {
   "display_name": "Python 3 (ipykernel)",
   "language": "python",
   "name": "python3"
  },
  "language_info": {
   "codemirror_mode": {
    "name": "ipython",
    "version": 3
   },
   "file_extension": ".py",
   "mimetype": "text/x-python",
   "name": "python",
   "nbconvert_exporter": "python",
   "pygments_lexer": "ipython3",
   "version": "3.8.10"
  }
 },
 "nbformat": 4,
 "nbformat_minor": 5
}
